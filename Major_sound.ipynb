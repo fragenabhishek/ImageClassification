{
  "nbformat": 4,
  "nbformat_minor": 0,
  "metadata": {
    "colab": {
      "name": "Major_sound.ipynb",
      "provenance": [],
      "collapsed_sections": [],
      "authorship_tag": "ABX9TyPO5dSx2ncTckPJksXZLcsy",
      "include_colab_link": true
    },
    "kernelspec": {
      "name": "python3",
      "display_name": "Python 3"
    }
  },
  "cells": [
    {
      "cell_type": "markdown",
      "metadata": {
        "id": "view-in-github",
        "colab_type": "text"
      },
      "source": [
        "<a href=\"https://colab.research.google.com/github/fragenabhishek/ImageClassification/blob/main/Major_sound.ipynb\" target=\"_parent\"><img src=\"https://colab.research.google.com/assets/colab-badge.svg\" alt=\"Open In Colab\"/></a>"
      ]
    },
    {
      "cell_type": "code",
      "metadata": {
        "id": "GxIjZBWgXOuV"
      },
      "source": [
        "import numpy as np\n",
        "import librosa"
      ],
      "execution_count": null,
      "outputs": []
    },
    {
      "cell_type": "code",
      "metadata": {
        "id": "FD0wbsYsXRD3",
        "colab": {
          "base_uri": "https://localhost:8080/",
          "height": 401
        },
        "outputId": "073707ca-8152-418c-8a23-9f9901cac702"
      },
      "source": [
        "#extracting data from csv files into numpy arrays\n",
        "from numpy import genfromtxt\n",
        "\n",
        "x_train = genfromtxt('train_data.csv', delimiter=',')\n",
        "y_train = genfromtxt('train_labels.csv', delimiter=',')\n",
        "x_test = genfromtxt('test_data.csv', delimiter=',')\n",
        "y_test = genfromtxt('test_labels.csv', delimiter=',')"
      ],
      "execution_count": null,
      "outputs": [
        {
          "output_type": "error",
          "ename": "OSError",
          "evalue": "ignored",
          "traceback": [
            "\u001b[0;31m---------------------------------------------------------------------------\u001b[0m",
            "\u001b[0;31mOSError\u001b[0m                                   Traceback (most recent call last)",
            "\u001b[0;32m<ipython-input-2-9a8412d39291>\u001b[0m in \u001b[0;36m<module>\u001b[0;34m()\u001b[0m\n\u001b[1;32m      2\u001b[0m \u001b[0;32mfrom\u001b[0m \u001b[0mnumpy\u001b[0m \u001b[0;32mimport\u001b[0m \u001b[0mgenfromtxt\u001b[0m\u001b[0;34m\u001b[0m\u001b[0;34m\u001b[0m\u001b[0m\n\u001b[1;32m      3\u001b[0m \u001b[0;34m\u001b[0m\u001b[0m\n\u001b[0;32m----> 4\u001b[0;31m \u001b[0mx_train\u001b[0m \u001b[0;34m=\u001b[0m \u001b[0mgenfromtxt\u001b[0m\u001b[0;34m(\u001b[0m\u001b[0;34m'train_data.csv'\u001b[0m\u001b[0;34m,\u001b[0m \u001b[0mdelimiter\u001b[0m\u001b[0;34m=\u001b[0m\u001b[0;34m','\u001b[0m\u001b[0;34m)\u001b[0m\u001b[0;34m\u001b[0m\u001b[0;34m\u001b[0m\u001b[0m\n\u001b[0m\u001b[1;32m      5\u001b[0m \u001b[0my_train\u001b[0m \u001b[0;34m=\u001b[0m \u001b[0mgenfromtxt\u001b[0m\u001b[0;34m(\u001b[0m\u001b[0;34m'train_labels.csv'\u001b[0m\u001b[0;34m,\u001b[0m \u001b[0mdelimiter\u001b[0m\u001b[0;34m=\u001b[0m\u001b[0;34m','\u001b[0m\u001b[0;34m)\u001b[0m\u001b[0;34m\u001b[0m\u001b[0;34m\u001b[0m\u001b[0m\n\u001b[1;32m      6\u001b[0m \u001b[0mx_test\u001b[0m \u001b[0;34m=\u001b[0m \u001b[0mgenfromtxt\u001b[0m\u001b[0;34m(\u001b[0m\u001b[0;34m'test_data.csv'\u001b[0m\u001b[0;34m,\u001b[0m \u001b[0mdelimiter\u001b[0m\u001b[0;34m=\u001b[0m\u001b[0;34m','\u001b[0m\u001b[0;34m)\u001b[0m\u001b[0;34m\u001b[0m\u001b[0;34m\u001b[0m\u001b[0m\n",
            "\u001b[0;32m/usr/local/lib/python3.6/dist-packages/numpy/lib/npyio.py\u001b[0m in \u001b[0;36mgenfromtxt\u001b[0;34m(fname, dtype, comments, delimiter, skip_header, skip_footer, converters, missing_values, filling_values, usecols, names, excludelist, deletechars, replace_space, autostrip, case_sensitive, defaultfmt, unpack, usemask, loose, invalid_raise, max_rows, encoding)\u001b[0m\n\u001b[1;32m   1770\u001b[0m             \u001b[0mfname\u001b[0m \u001b[0;34m=\u001b[0m \u001b[0mos_fspath\u001b[0m\u001b[0;34m(\u001b[0m\u001b[0mfname\u001b[0m\u001b[0;34m)\u001b[0m\u001b[0;34m\u001b[0m\u001b[0;34m\u001b[0m\u001b[0m\n\u001b[1;32m   1771\u001b[0m         \u001b[0;32mif\u001b[0m \u001b[0misinstance\u001b[0m\u001b[0;34m(\u001b[0m\u001b[0mfname\u001b[0m\u001b[0;34m,\u001b[0m \u001b[0mbasestring\u001b[0m\u001b[0;34m)\u001b[0m\u001b[0;34m:\u001b[0m\u001b[0;34m\u001b[0m\u001b[0;34m\u001b[0m\u001b[0m\n\u001b[0;32m-> 1772\u001b[0;31m             \u001b[0mfid\u001b[0m \u001b[0;34m=\u001b[0m \u001b[0mnp\u001b[0m\u001b[0;34m.\u001b[0m\u001b[0mlib\u001b[0m\u001b[0;34m.\u001b[0m\u001b[0m_datasource\u001b[0m\u001b[0;34m.\u001b[0m\u001b[0mopen\u001b[0m\u001b[0;34m(\u001b[0m\u001b[0mfname\u001b[0m\u001b[0;34m,\u001b[0m \u001b[0;34m'rt'\u001b[0m\u001b[0;34m,\u001b[0m \u001b[0mencoding\u001b[0m\u001b[0;34m=\u001b[0m\u001b[0mencoding\u001b[0m\u001b[0;34m)\u001b[0m\u001b[0;34m\u001b[0m\u001b[0;34m\u001b[0m\u001b[0m\n\u001b[0m\u001b[1;32m   1773\u001b[0m             \u001b[0mfid_ctx\u001b[0m \u001b[0;34m=\u001b[0m \u001b[0mcontextlib\u001b[0m\u001b[0;34m.\u001b[0m\u001b[0mclosing\u001b[0m\u001b[0;34m(\u001b[0m\u001b[0mfid\u001b[0m\u001b[0;34m)\u001b[0m\u001b[0;34m\u001b[0m\u001b[0;34m\u001b[0m\u001b[0m\n\u001b[1;32m   1774\u001b[0m         \u001b[0;32melse\u001b[0m\u001b[0;34m:\u001b[0m\u001b[0;34m\u001b[0m\u001b[0;34m\u001b[0m\u001b[0m\n",
            "\u001b[0;32m/usr/local/lib/python3.6/dist-packages/numpy/lib/_datasource.py\u001b[0m in \u001b[0;36mopen\u001b[0;34m(path, mode, destpath, encoding, newline)\u001b[0m\n\u001b[1;32m    267\u001b[0m \u001b[0;34m\u001b[0m\u001b[0m\n\u001b[1;32m    268\u001b[0m     \u001b[0mds\u001b[0m \u001b[0;34m=\u001b[0m \u001b[0mDataSource\u001b[0m\u001b[0;34m(\u001b[0m\u001b[0mdestpath\u001b[0m\u001b[0;34m)\u001b[0m\u001b[0;34m\u001b[0m\u001b[0;34m\u001b[0m\u001b[0m\n\u001b[0;32m--> 269\u001b[0;31m     \u001b[0;32mreturn\u001b[0m \u001b[0mds\u001b[0m\u001b[0;34m.\u001b[0m\u001b[0mopen\u001b[0m\u001b[0;34m(\u001b[0m\u001b[0mpath\u001b[0m\u001b[0;34m,\u001b[0m \u001b[0mmode\u001b[0m\u001b[0;34m,\u001b[0m \u001b[0mencoding\u001b[0m\u001b[0;34m=\u001b[0m\u001b[0mencoding\u001b[0m\u001b[0;34m,\u001b[0m \u001b[0mnewline\u001b[0m\u001b[0;34m=\u001b[0m\u001b[0mnewline\u001b[0m\u001b[0;34m)\u001b[0m\u001b[0;34m\u001b[0m\u001b[0;34m\u001b[0m\u001b[0m\n\u001b[0m\u001b[1;32m    270\u001b[0m \u001b[0;34m\u001b[0m\u001b[0m\n\u001b[1;32m    271\u001b[0m \u001b[0;34m\u001b[0m\u001b[0m\n",
            "\u001b[0;32m/usr/local/lib/python3.6/dist-packages/numpy/lib/_datasource.py\u001b[0m in \u001b[0;36mopen\u001b[0;34m(self, path, mode, encoding, newline)\u001b[0m\n\u001b[1;32m    621\u001b[0m                                       encoding=encoding, newline=newline)\n\u001b[1;32m    622\u001b[0m         \u001b[0;32melse\u001b[0m\u001b[0;34m:\u001b[0m\u001b[0;34m\u001b[0m\u001b[0;34m\u001b[0m\u001b[0m\n\u001b[0;32m--> 623\u001b[0;31m             \u001b[0;32mraise\u001b[0m \u001b[0mIOError\u001b[0m\u001b[0;34m(\u001b[0m\u001b[0;34m\"%s not found.\"\u001b[0m \u001b[0;34m%\u001b[0m \u001b[0mpath\u001b[0m\u001b[0;34m)\u001b[0m\u001b[0;34m\u001b[0m\u001b[0;34m\u001b[0m\u001b[0m\n\u001b[0m\u001b[1;32m    624\u001b[0m \u001b[0;34m\u001b[0m\u001b[0m\n\u001b[1;32m    625\u001b[0m \u001b[0;34m\u001b[0m\u001b[0m\n",
            "\u001b[0;31mOSError\u001b[0m: train_data.csv not found."
          ]
        }
      ]
    },
    {
      "cell_type": "code",
      "metadata": {
        "id": "XU1bKQGWZ4O3",
        "outputId": "864ba443-9d89-4958-8a85-bbb3a9301778",
        "colab": {
          "base_uri": "https://localhost:8080/",
          "height": 35
        }
      },
      "source": [
        "#shape\n",
        "x_train.shape,x_test.shape,y_train.shape,y_test.shape"
      ],
      "execution_count": null,
      "outputs": [
        {
          "output_type": "execute_result",
          "data": {
            "text/plain": [
              "((7895, 200), (837, 200), (7895,), (837,))"
            ]
          },
          "metadata": {
            "tags": []
          },
          "execution_count": 11
        }
      ]
    },
    {
      "cell_type": "code",
      "metadata": {
        "id": "6RVjrnslaKP3",
        "outputId": "0962c515-f023-4c43-bd4a-b7f58c79d0e9",
        "colab": {
          "base_uri": "https://localhost:8080/",
          "height": 54
        }
      },
      "source": [
        "#converting to one hot\n",
        "from keras.utils.np_utils import to_categorical\n",
        "y_train = to_categorical(y_train, num_classes=10)\n",
        "y_test = to_categorical(y_test, num_classes=10)\n",
        "y_train.shape,y_test.shape"
      ],
      "execution_count": null,
      "outputs": [
        {
          "output_type": "stream",
          "text": [
            "Using TensorFlow backend.\n"
          ],
          "name": "stderr"
        },
        {
          "output_type": "execute_result",
          "data": {
            "text/plain": [
              "((7895, 10), (837, 10))"
            ]
          },
          "metadata": {
            "tags": []
          },
          "execution_count": 12
        }
      ]
    },
    {
      "cell_type": "code",
      "metadata": {
        "id": "BQzcAsesaNKk",
        "outputId": "8dd4c593-2fda-468c-ab97-d3307373a8a2",
        "colab": {
          "base_uri": "https://localhost:8080/",
          "height": 35
        }
      },
      "source": [
        "#reshaping to 2D \n",
        "x_train=np.reshape(x_train,(x_train.shape[0], 40,5))\n",
        "x_test=np.reshape(x_test,(x_test.shape[0], 40,5))\n",
        "x_train.shape,x_test.shape"
      ],
      "execution_count": null,
      "outputs": [
        {
          "output_type": "execute_result",
          "data": {
            "text/plain": [
              "((7895, 40, 5), (837, 40, 5))"
            ]
          },
          "metadata": {
            "tags": []
          },
          "execution_count": 13
        }
      ]
    },
    {
      "cell_type": "code",
      "metadata": {
        "id": "PNbRBtDVaYWW"
      },
      "source": [
        "#reshaping to shape required by CNN\n",
        "x_train=np.reshape(x_train,(x_train.shape[0], 40,5,1))\n",
        "x_test=np.reshape(x_test,(x_test.shape[0], 40,5,1))"
      ],
      "execution_count": null,
      "outputs": []
    },
    {
      "cell_type": "code",
      "metadata": {
        "id": "c1TFKeO2abUG",
        "outputId": "d0d587c7-d962-4302-ce74-9e612a0ad540",
        "colab": {
          "base_uri": "https://localhost:8080/",
          "height": 35
        }
      },
      "source": [
        "#shapes\n",
        "x_train.shape,x_test.shape"
      ],
      "execution_count": null,
      "outputs": [
        {
          "output_type": "execute_result",
          "data": {
            "text/plain": [
              "((7895, 40, 5, 1), (837, 40, 5, 1))"
            ]
          },
          "metadata": {
            "tags": []
          },
          "execution_count": 15
        }
      ]
    },
    {
      "cell_type": "code",
      "metadata": {
        "id": "g0xqWZ7oaeOI"
      },
      "source": [
        "from keras import Sequential\n",
        "from keras.layers import Dense,Conv2D,MaxPooling2D,Flatten,Dropout"
      ],
      "execution_count": null,
      "outputs": []
    },
    {
      "cell_type": "code",
      "metadata": {
        "id": "iv9Zw21IahEA"
      },
      "source": [
        "#forming model\n",
        "model=Sequential()"
      ],
      "execution_count": null,
      "outputs": []
    },
    {
      "cell_type": "code",
      "metadata": {
        "id": "lU-o-s_paj_q"
      },
      "source": [
        "#adding layers and forming the model\n",
        "model.add(Conv2D(64,kernel_size=5,strides=1,padding=\"Same\",activation=\"relu\",input_shape=(40,5,1)))\n",
        "model.add(MaxPooling2D(padding=\"same\"))\n",
        "\n",
        "model.add(Conv2D(128,kernel_size=5,strides=1,padding=\"same\",activation=\"relu\"))\n",
        "model.add(MaxPooling2D(padding=\"same\"))\n",
        "model.add(Dropout(0.3))\n",
        "\n",
        "model.add(Flatten())\n",
        "\n",
        "model.add(Dense(256,activation=\"relu\"))\n",
        "model.add(Dropout(0.3))\n",
        "\n",
        "model.add(Dense(512,activation=\"relu\"))\n",
        "model.add(Dropout(0.3))\n",
        "\n",
        "model.add(Dense(10,activation=\"softmax\"))"
      ],
      "execution_count": null,
      "outputs": []
    },
    {
      "cell_type": "code",
      "metadata": {
        "id": "rszow8SRamrJ"
      },
      "source": [
        "#compiling\n",
        "model.compile(optimizer=\"adam\",loss=\"categorical_crossentropy\",metrics=[\"accuracy\"])"
      ],
      "execution_count": null,
      "outputs": []
    },
    {
      "cell_type": "code",
      "metadata": {
        "id": "EPui9foOaq5R",
        "outputId": "32b8fc1f-ac44-430b-b87e-9219ee94d199",
        "colab": {
          "base_uri": "https://localhost:8080/",
          "height": 1000
        }
      },
      "source": [
        "#training the model\n",
        "model.fit(x_train,y_train,batch_size=50,epochs=30,validation_data=(x_test,y_test))"
      ],
      "execution_count": null,
      "outputs": [
        {
          "output_type": "stream",
          "text": [
            "Train on 7895 samples, validate on 837 samples\n",
            "Epoch 1/30\n",
            "7895/7895 [==============================] - 21s 3ms/step - loss: 1.9867 - accuracy: 0.3059 - val_loss: 1.5573 - val_accuracy: 0.4241\n",
            "Epoch 2/30\n",
            "7895/7895 [==============================] - 20s 3ms/step - loss: 1.4108 - accuracy: 0.5132 - val_loss: 1.2602 - val_accuracy: 0.5579\n",
            "Epoch 3/30\n",
            "7895/7895 [==============================] - 20s 3ms/step - loss: 1.1122 - accuracy: 0.6186 - val_loss: 1.1304 - val_accuracy: 0.6260\n",
            "Epoch 4/30\n",
            "7895/7895 [==============================] - 20s 3ms/step - loss: 0.9084 - accuracy: 0.6901 - val_loss: 1.1309 - val_accuracy: 0.6201\n",
            "Epoch 5/30\n",
            "7895/7895 [==============================] - 20s 3ms/step - loss: 0.8352 - accuracy: 0.7239 - val_loss: 1.0069 - val_accuracy: 0.6595\n",
            "Epoch 6/30\n",
            "7895/7895 [==============================] - 20s 3ms/step - loss: 0.7098 - accuracy: 0.7666 - val_loss: 1.0490 - val_accuracy: 0.6320\n",
            "Epoch 7/30\n",
            "7895/7895 [==============================] - 20s 3ms/step - loss: 0.6258 - accuracy: 0.7962 - val_loss: 0.9185 - val_accuracy: 0.7049\n",
            "Epoch 8/30\n",
            "7895/7895 [==============================] - 20s 3ms/step - loss: 0.5861 - accuracy: 0.8092 - val_loss: 0.9433 - val_accuracy: 0.7037\n",
            "Epoch 9/30\n",
            "7895/7895 [==============================] - 20s 3ms/step - loss: 0.5712 - accuracy: 0.8109 - val_loss: 0.8934 - val_accuracy: 0.7300\n",
            "Epoch 10/30\n",
            "7895/7895 [==============================] - 20s 3ms/step - loss: 0.4817 - accuracy: 0.8407 - val_loss: 0.9361 - val_accuracy: 0.7133\n",
            "Epoch 11/30\n",
            "7895/7895 [==============================] - 20s 3ms/step - loss: 0.4725 - accuracy: 0.8495 - val_loss: 0.9747 - val_accuracy: 0.7061\n",
            "Epoch 12/30\n",
            "7895/7895 [==============================] - 20s 3ms/step - loss: 0.4369 - accuracy: 0.8540 - val_loss: 0.9842 - val_accuracy: 0.7168\n",
            "Epoch 13/30\n",
            "7895/7895 [==============================] - 20s 3ms/step - loss: 0.4346 - accuracy: 0.8581 - val_loss: 0.9921 - val_accuracy: 0.7216\n",
            "Epoch 14/30\n",
            "7895/7895 [==============================] - 20s 3ms/step - loss: 0.3951 - accuracy: 0.8713 - val_loss: 1.0257 - val_accuracy: 0.7001\n",
            "Epoch 15/30\n",
            "7895/7895 [==============================] - 20s 3ms/step - loss: 0.3450 - accuracy: 0.8845 - val_loss: 1.0421 - val_accuracy: 0.7133\n",
            "Epoch 16/30\n",
            "7895/7895 [==============================] - 20s 3ms/step - loss: 0.3365 - accuracy: 0.8875 - val_loss: 0.9793 - val_accuracy: 0.7252\n",
            "Epoch 17/30\n",
            "7895/7895 [==============================] - 20s 3ms/step - loss: 0.3232 - accuracy: 0.8946 - val_loss: 0.9871 - val_accuracy: 0.7085\n",
            "Epoch 18/30\n",
            "7895/7895 [==============================] - 20s 3ms/step - loss: 0.3344 - accuracy: 0.8913 - val_loss: 1.0733 - val_accuracy: 0.6989\n",
            "Epoch 19/30\n",
            "7895/7895 [==============================] - 20s 3ms/step - loss: 0.3184 - accuracy: 0.8980 - val_loss: 1.1756 - val_accuracy: 0.7109\n",
            "Epoch 20/30\n",
            "7895/7895 [==============================] - 20s 3ms/step - loss: 0.2937 - accuracy: 0.9032 - val_loss: 1.1525 - val_accuracy: 0.6989\n",
            "Epoch 21/30\n",
            "7895/7895 [==============================] - 20s 3ms/step - loss: 0.2837 - accuracy: 0.9075 - val_loss: 1.1032 - val_accuracy: 0.7037\n",
            "Epoch 22/30\n",
            "7895/7895 [==============================] - 25s 3ms/step - loss: 0.2812 - accuracy: 0.9065 - val_loss: 0.9522 - val_accuracy: 0.7551\n",
            "Epoch 23/30\n",
            "7895/7895 [==============================] - 20s 3ms/step - loss: 0.2663 - accuracy: 0.9154 - val_loss: 1.0662 - val_accuracy: 0.7300\n",
            "Epoch 24/30\n",
            "7895/7895 [==============================] - 20s 3ms/step - loss: 0.2629 - accuracy: 0.9129 - val_loss: 1.0862 - val_accuracy: 0.7049\n",
            "Epoch 25/30\n",
            "7895/7895 [==============================] - 20s 3ms/step - loss: 0.2882 - accuracy: 0.9078 - val_loss: 1.0812 - val_accuracy: 0.7384\n",
            "Epoch 26/30\n",
            "7895/7895 [==============================] - 20s 3ms/step - loss: 0.2491 - accuracy: 0.9194 - val_loss: 1.2461 - val_accuracy: 0.6977\n",
            "Epoch 27/30\n",
            "7895/7895 [==============================] - 20s 3ms/step - loss: 0.2260 - accuracy: 0.9245 - val_loss: 1.1353 - val_accuracy: 0.7168\n",
            "Epoch 28/30\n",
            "7895/7895 [==============================] - 20s 3ms/step - loss: 0.2435 - accuracy: 0.9203 - val_loss: 1.1037 - val_accuracy: 0.7264\n",
            "Epoch 29/30\n",
            "7895/7895 [==============================] - 20s 3ms/step - loss: 0.2182 - accuracy: 0.9296 - val_loss: 1.2056 - val_accuracy: 0.7168\n",
            "Epoch 30/30\n",
            "7895/7895 [==============================] - 21s 3ms/step - loss: 0.2458 - accuracy: 0.9220 - val_loss: 1.2235 - val_accuracy: 0.7049\n"
          ],
          "name": "stdout"
        },
        {
          "output_type": "execute_result",
          "data": {
            "text/plain": [
              "<keras.callbacks.callbacks.History at 0x7f8aa85d6da0>"
            ]
          },
          "metadata": {
            "tags": []
          },
          "execution_count": 20
        }
      ]
    },
    {
      "cell_type": "code",
      "metadata": {
        "id": "J3191pIOatzm",
        "outputId": "4b522c03-248d-42af-81ca-a8e827b6b7b9",
        "colab": {
          "base_uri": "https://localhost:8080/",
          "height": 91
        }
      },
      "source": [
        "#train and test loss and scores respectively\n",
        "train_loss_score=model.evaluate(x_train,y_train)\n",
        "test_loss_score=model.evaluate(x_test,y_test)\n",
        "print(train_loss_score)\n",
        "print(test_loss_score)"
      ],
      "execution_count": null,
      "outputs": [
        {
          "output_type": "stream",
          "text": [
            "7895/7895 [==============================] - 5s 616us/step\n",
            "837/837 [==============================] - 1s 627us/step\n",
            "[0.10740214535370549, 0.9664344787597656]\n",
            "[1.2235214000961687, 0.704898476600647]\n"
          ],
          "name": "stdout"
        }
      ]
    },
    {
      "cell_type": "code",
      "metadata": {
        "id": "Aq-1FUdQeTlz",
        "outputId": "76df1a50-1688-4521-c820-47392e7fa350",
        "colab": {
          "base_uri": "https://localhost:8080/",
          "height": 35
        }
      },
      "source": [
        "print(model.metrics_names)"
      ],
      "execution_count": null,
      "outputs": [
        {
          "output_type": "stream",
          "text": [
            "['loss', 'accuracy']\n"
          ],
          "name": "stdout"
        }
      ]
    },
    {
      "cell_type": "code",
      "metadata": {
        "id": "anai4Rp-ea8N"
      },
      "source": [
        "def print_prediction(file_name):\n",
        "  prediction_feature = extract_feature(file_name)\n",
        "  predicted_vector = model.predict_classes(prediction_feature)\n",
        "  predicted_class = le.inverse_transform(predicted_vector)\n",
        "  print(\"The predicted class is:\", predicted_class[0], '\\n')\n",
        "  predicted_proba_vector = model.predict_proba(prediction_feature)\n",
        "  predicted_proba = predicted_proba_vector[0]\n",
        "  for i in range(len(predicted_proba)):\n",
        "    category = le.inverse_transform(np.array([i]))\n",
        "    print(category[0], \"\\t\\t : \", format(predicted_proba[i], '.32f') )"
      ],
      "execution_count": null,
      "outputs": []
    },
    {
      "cell_type": "code",
      "metadata": {
        "id": "Wg3cpWL4eezt"
      },
      "source": [
        ""
      ],
      "execution_count": null,
      "outputs": []
    }
  ]
}